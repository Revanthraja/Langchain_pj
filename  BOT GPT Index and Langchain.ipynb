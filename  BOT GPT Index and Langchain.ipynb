{
 "cells": [
  {
   "cell_type": "code",
   "execution_count": 3,
   "id": "28096909",
   "metadata": {},
   "outputs": [],
   "source": [
    "from gpt_index import SimpleDirectoryReader,GPTListIndex,GPTSimpleVectorIndex,LLMPredictor,PromptHelper\n",
    "from langchain import OpenAI\n",
    "import os\n",
    "import sys"
   ]
  },
  {
   "cell_type": "code",
   "execution_count": 4,
   "id": "8b2a8b9b",
   "metadata": {},
   "outputs": [],
   "source": [
    "os.environ['OPENAI_API_KEY']='your_api_key'"
   ]
  },
  {
   "cell_type": "code",
   "execution_count": 8,
   "id": "be3eebb1",
   "metadata": {},
   "outputs": [],
   "source": [
    "def construct_index(directory_path):\n",
    "    max_input_size=4096\n",
    "    num_outputs=256\n",
    "    max_chunk_overlap=20\n",
    "    chuck_size=600\n",
    "    prompt_helper=PromptHelper(max_input_size,num_outputs,max_chunk_overlap,chuck_size)\n",
    "    \n",
    "    llm_predictor=LLMPredictor(llm=OpenAI(temperature=0.9,model_name='text-ada-001',max_tokens=num_outputs))\n",
    "    documents=SimpleDirectoryReader(directory_path).load_data()\n",
    "    index=GPTSimpleVectorIndex(documents,llm_predictor=llm_predictor,prompt_helper=prompt_helper)\n",
    "    \n",
    "    index.save_to_disk('index.json')\n",
    "    return index\n",
    "                               \n",
    "    "
   ]
  },
  {
   "cell_type": "code",
   "execution_count": 6,
   "id": "38595184",
   "metadata": {},
   "outputs": [],
   "source": [
    "def ask_bot(input_index='index.json'):\n",
    "    index=GPTSimpleVectorIndex.load_from_disk(input_index)\n",
    "    while True:\n",
    "        query=input(\"What do you want to search\")\n",
    "        response=index.query(query,response_mode='compact')\n",
    "        print(\"Bot says :\"+response.response+\"\\n\\n\")"
   ]
  },
  {
   "cell_type": "code",
   "execution_count": 9,
   "id": "107f5b95",
   "metadata": {},
   "outputs": [
    {
     "name": "stderr",
     "output_type": "stream",
     "text": [
      "INFO:root:> [build_index_from_documents] Total LLM token usage: 0 tokens\n",
      "INFO:root:> [build_index_from_documents] Total embedding token usage: 32339 tokens\n"
     ]
    }
   ],
   "source": [
    "index=construct_index('/media/revanth/Data/NLP_R/new')"
   ]
  },
  {
   "cell_type": "code",
   "execution_count": null,
   "id": "76329797",
   "metadata": {},
   "outputs": [
    {
     "name": "stdout",
     "output_type": "stream",
     "text": [
      "What do you want to searchchatter ot\n"
     ]
    },
    {
     "name": "stderr",
     "output_type": "stream",
     "text": [
      "INFO:root:> [query] Total LLM token usage: 569 tokens\n",
      "INFO:root:> [query] Total embedding token usage: 3 tokens\n"
     ]
    },
    {
     "name": "stdout",
     "output_type": "stream",
     "text": [
      "Bot says :\n",
      "Chatterbot is a computer program or an artificial intelligence which conducts a conversation via auditory or textual methods. It is designed to simulate how a human would behave as a conversational partner, and is typically used in dialog systems for various practical purposes.\n",
      "\n",
      "\n",
      "What do you want to searchRevanthraja M\n"
     ]
    },
    {
     "name": "stderr",
     "output_type": "stream",
     "text": [
      "INFO:root:> [query] Total LLM token usage: 567 tokens\n",
      "INFO:root:> [query] Total embedding token usage: 5 tokens\n"
     ]
    },
    {
     "name": "stdout",
     "output_type": "stream",
     "text": [
      "Bot says :\n",
      "Revanthraja M is not mentioned in the context information.\n",
      "\n",
      "\n",
      "What do you want to searchBharthi\n"
     ]
    },
    {
     "name": "stderr",
     "output_type": "stream",
     "text": [
      "INFO:root:> [query] Total LLM token usage: 564 tokens\n",
      "INFO:root:> [query] Total embedding token usage: 4 tokens\n"
     ]
    },
    {
     "name": "stdout",
     "output_type": "stream",
     "text": [
      "Bot says :\n",
      "Bharthi is not mentioned in the context information.\n",
      "\n",
      "\n",
      "What do you want to searchAutomation\n"
     ]
    },
    {
     "name": "stderr",
     "output_type": "stream",
     "text": [
      "INFO:root:> [query] Total LLM token usage: 606 tokens\n",
      "INFO:root:> [query] Total embedding token usage: 2 tokens\n"
     ]
    },
    {
     "name": "stdout",
     "output_type": "stream",
     "text": [
      "Bot says :in cars to alert drivers is a project about what?\n",
      "\n",
      "Automation in cars to alert drivers is a project about detecting driver drowsiness and alerting drivers to reduce the rate of road accidents caused by driver fatigue.\n",
      "\n",
      "\n",
      "What do you want to searchStudent\n"
     ]
    },
    {
     "name": "stderr",
     "output_type": "stream",
     "text": [
      "INFO:root:> [query] Total LLM token usage: 729 tokens\n",
      "INFO:root:> [query] Total embedding token usage: 1 tokens\n"
     ]
    },
    {
     "name": "stdout",
     "output_type": "stream",
     "text": [
      "Bot says :Sahana S, Shravya M R, Shreya R, and Meghana Krishna are expressing their gratitude to whom?\n",
      "\n",
      "Student Sahana S, Shravya M R, Shreya R, and Meghana Krishna are expressing their gratitude to Dr. Nirmalanandanatha Swamiji of Sri Adichunchanagiri Mutt, Dr. Ravi Kumar K M, Principal of S J C Institute of Technology, Chickballapura, Dr. T Munikenche Gowda, Director of B G S R&D, S J C Institute of Technology, Chickaballapura, Dr. Anitha T N, Head of the Department of Computer Science and Engineering, S J C Institute of Technology, Chickballapura, and SAFIRA BEGUM, Department of Resources and Development, S J C Institute of Technology.\n",
      "\n",
      "\n",
      "What do you want to searchRevanthraja\n"
     ]
    },
    {
     "name": "stderr",
     "output_type": "stream",
     "text": [
      "INFO:root:> [query] Total LLM token usage: 565 tokens\n",
      "INFO:root:> [query] Total embedding token usage: 4 tokens\n"
     ]
    },
    {
     "name": "stdout",
     "output_type": "stream",
     "text": [
      "Bot says :\n",
      "Revanthraja is not mentioned in the context information.\n",
      "\n",
      "\n",
      "What do you want to searchhello\n"
     ]
    },
    {
     "name": "stderr",
     "output_type": "stream",
     "text": [
      "INFO:root:> [query] Total LLM token usage: 575 tokens\n",
      "INFO:root:> [query] Total embedding token usage: 1 tokens\n"
     ]
    },
    {
     "name": "stdout",
     "output_type": "stream",
     "text": [
      "Bot says :\n",
      "Hello!\n",
      "\n",
      "\n",
      "What do you want to searchhi\n"
     ]
    },
    {
     "name": "stderr",
     "output_type": "stream",
     "text": [
      "INFO:root:> [query] Total LLM token usage: 575 tokens\n",
      "INFO:root:> [query] Total embedding token usage: 1 tokens\n"
     ]
    },
    {
     "name": "stdout",
     "output_type": "stream",
     "text": [
      "Bot says :\n",
      "Hi!\n",
      "\n",
      "\n",
      "What do you want to searchlitrature\n"
     ]
    },
    {
     "name": "stderr",
     "output_type": "stream",
     "text": [
      "INFO:root:> [query] Total LLM token usage: 586 tokens\n",
      "INFO:root:> [query] Total embedding token usage: 3 tokens\n"
     ]
    },
    {
     "name": "stdout",
     "output_type": "stream",
     "text": [
      "Bot says :\n",
      "Literature is a broad term that can refer to any written work, including novels, plays, short stories, poems, and other forms of creative writing.\n",
      "\n",
      "\n",
      "What do you want to searchokkk\n"
     ]
    },
    {
     "name": "stderr",
     "output_type": "stream",
     "text": [
      "INFO:root:> [query] Total LLM token usage: 598 tokens\n",
      "INFO:root:> [query] Total embedding token usage: 2 tokens\n"
     ]
    },
    {
     "name": "stdout",
     "output_type": "stream",
     "text": [
      "Bot says :\n",
      "Sorry, I don't understand what you are asking. Could you please rephrase your question?\n",
      "\n",
      "\n"
     ]
    }
   ],
   "source": [
    "ask_bot('index.json')"
   ]
  },
  {
   "cell_type": "code",
   "execution_count": null,
   "id": "0537e107",
   "metadata": {},
   "outputs": [],
   "source": []
  }
 ],
 "metadata": {
  "kernelspec": {
   "display_name": "Python 3 (ipykernel)",
   "language": "python",
   "name": "python3"
  },
  "language_info": {
   "codemirror_mode": {
    "name": "ipython",
    "version": 3
   },
   "file_extension": ".py",
   "mimetype": "text/x-python",
   "name": "python",
   "nbconvert_exporter": "python",
   "pygments_lexer": "ipython3",
   "version": "3.9.13"
  }
 },
 "nbformat": 4,
 "nbformat_minor": 5
}
